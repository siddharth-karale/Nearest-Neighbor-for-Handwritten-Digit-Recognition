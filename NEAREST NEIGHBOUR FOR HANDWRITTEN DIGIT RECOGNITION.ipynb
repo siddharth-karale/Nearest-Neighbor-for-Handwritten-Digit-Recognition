{
 "cells": [
  {
   "cell_type": "markdown",
   "id": "7b5ffdf5-01d8-44e9-b983-3b10db619fb2",
   "metadata": {},
   "source": [
    "We will build a classifier that takes an image of a handwritten digit and outputs a label 0-9. We will look at a \r\n",
    "particularly simple strategy for this problem known as the nearest neighbor classifier. \r\n",
    "To run this notebook we should have the following Python packages installe\n",
    "* Numpy\n",
    "* Matplotlib\n",
    "* sklearnrnd:"
   ]
  },
  {
   "cell_type": "markdown",
   "id": "057262cd-7750-4453-970d-84a1e65328b9",
   "metadata": {},
   "source": [
    "## The MNIST dataset \r",
    "* \n",
    "\"MNIST\" is a classic dataset in machine learning, consisting of 28x28 gray-scale images handwritten digits.\r\n",
    "The original training set contains 60,000 examples and the test set contains 10,000 examples. In thi \r\n",
    "notebook we will be working with a subset of this data: a training set of 7500 examples and a test set f \r\n",
    "1,000 examples. "
   ]
  },
  {
   "cell_type": "markdown",
   "id": "8e5e6778-c3a4-4b76-844a-4c8a46f1f102",
   "metadata": {},
   "source": [
    "About the dataset \n",
    "Four files are available on this package: \n",
    "* training set images \n",
    "* training set labels \n",
    "* test set images \n",
    "* test set labels \n"
   ]
  },
  {
   "cell_type": "markdown",
   "id": "5111155c-26e1-4fce-93e8-0aee0a9a34ce",
   "metadata": {},
   "source": [
    "These files are not in any standard image format. You have to write your own (very simple) program to read them. You can find more details about the dataset here: http://yann.lecun.com/exdb/mnist/ "
   ]
  },
  {
   "cell_type": "code",
   "execution_count": 1,
   "id": "22d573bd-e97e-4310-bf00-db956ea51c11",
   "metadata": {},
   "outputs": [],
   "source": [
    "import numpy as np \n",
    "import matplotlib.pyplot as plt \n",
    "import time "
   ]
  },
  {
   "cell_type": "code",
   "execution_count": 2,
   "id": "9a49aba4-83de-4249-8710-07cf87359c87",
   "metadata": {},
   "outputs": [],
   "source": [
    "#Load the training set: \n",
    "train_data = np.load(r\"K:\\DATA SCIENCE\\DataSets\\TopMentor Datasets\\data\\train_data.npy\") \n",
    "train_labels = np.load(r\"K:\\DATA SCIENCE\\DataSets\\TopMentor Datasets\\data\\train_labels.npy\")"
   ]
  },
  {
   "cell_type": "code",
   "execution_count": 3,
   "id": "03bbbf67-7f19-439d-9480-12bd505ce4be",
   "metadata": {},
   "outputs": [],
   "source": [
    "#Load the testing set: \n",
    "test_data = np.load(r\"K:\\DATA SCIENCE\\DataSets\\TopMentor Datasets\\data\\test_data.npy\") \n",
    "test_labels = np.load(r\"K:\\DATA SCIENCE\\DataSets\\TopMentor Datasets\\data\\test_labels.npy\") "
   ]
  },
  {
   "cell_type": "code",
   "execution_count": 4,
   "id": "557125c4-2c9e-4bcc-832b-28b52bbedbc1",
   "metadata": {},
   "outputs": [
    {
     "name": "stdout",
     "output_type": "stream",
     "text": [
      "Training dataset dimensions:  (7500, 784)\n",
      "Number of training labels:  7500\n",
      "Testing dataset dimensions:  (1000, 784)\n",
      "Number of testing labels:  1000\n"
     ]
    }
   ],
   "source": [
    "#Print out data dimensions: \n",
    "print(\"Training dataset dimensions: \", np.shape(train_data)) \n",
    "print(\"Number of training labels: \", len(train_labels)) \n",
    "print(\"Testing dataset dimensions: \", np.shape(test_data)) \n",
    "print(\"Number of testing labels: \", len(test_labels))"
   ]
  },
  {
   "cell_type": "code",
   "execution_count": 5,
   "id": "bce0b8c6-29e8-44df-b0db-1d4c584a9fbe",
   "metadata": {},
   "outputs": [
    {
     "name": "stdout",
     "output_type": "stream",
     "text": [
      "Training set distribution:\n",
      "{0: 750, 1: 750, 2: 750, 3: 750, 4: 750, 5: 750, 6: 750, 7: 750, 8: 750, 9: 750}\n",
      "Test set distribution:\n",
      "{0: 100, 1: 100, 2: 100, 3: 100, 4: 100, 5: 100, 6: 100, 7: 100, 8: 100, 9: 100}\n"
     ]
    }
   ],
   "source": [
    "#Compute the number of examples of each digit: \n",
    "train_digits, train_counts = np.unique(train_labels, return_counts=True) \n",
    "print(\"Training set distribution:\") \n",
    "print(dict(zip(train_digits, train_counts))) \n",
    "test_digits, test_counts = np.unique(test_labels, return_counts=True) \n",
    "print(\"Test set distribution:\") \n",
    "print(dict(zip(test_digits, test_counts))) "
   ]
  },
  {
   "cell_type": "markdown",
   "id": "442d70a8-a8e7-4633-ae4e-c9f8284df549",
   "metadata": {},
   "source": [
    "## Visualizing the data "
   ]
  },
  {
   "cell_type": "code",
   "execution_count": 6,
   "id": "bdf18dd5-d1eb-48a3-8b81-5588454acaa8",
   "metadata": {},
   "outputs": [],
   "source": [
    "#2. Visualizing the data \n",
    "#Each data point is stored as 784-dimensional vector. To visualize a data point, \n",
    "# we first reshape it to a 28x28 image. \n",
    "#Define a function that displays a digit given its vector representation: \n",
    "def show_digit(x): \n",
    "    plt.axis('off') \n",
    "    plt.imshow(x.reshape((28,28)), cmap=plt.cm.gray) \n",
    "    plt.show() \n",
    "    return"
   ]
  },
  {
   "cell_type": "code",
   "execution_count": 7,
   "id": "383f58c7-8af5-4210-91dc-ebc00d26c835",
   "metadata": {},
   "outputs": [],
   "source": [
    "#Define a function that takes an index into a particular data set (\"train\" or \"test\") and displays that image. \n",
    "def vis_image(index, dataset=\"train\"): \n",
    "    if(dataset==\"train\"): \n",
    "        show_digit(train_data[index,]) \n",
    "        label = train_labels[index] \n",
    "    else: \n",
    "        show_digit(test_data[index,]) \n",
    "        label = test_labels[index] \n",
    "    print(\"Label \" + str(label)) \n",
    "    return "
   ]
  },
  {
   "cell_type": "code",
   "execution_count": 8,
   "id": "26f32522-f3b7-461a-9d25-e27dbff36600",
   "metadata": {},
   "outputs": [
    {
     "data": {
      "image/png": "[encoded data removed]",
      "text/plain": [
       "<Figure size 640x480 with 1 Axes>"
      ]
     },
     "metadata": {},
     "output_type": "display_data"
    },
    {
     "name": "stdout",
     "output_type": "stream",
     "text": [
      "Label 9\n"
     ]
    }
   ],
   "source": [
    "#View the first data point in the training set: \n",
    "vis_image(0, \"train\") "
   ]
  },
  {
   "cell_type": "code",
   "execution_count": 9,
   "id": "9695e524-15ed-4233-8eb7-0c9007a8850a",
   "metadata": {},
   "outputs": [
    {
     "data": {
      "image/png": "[encoded data removed]",
      "text/plain": [
       "<Figure size 640x480 with 1 Axes>"
      ]
     },
     "metadata": {},
     "output_type": "display_data"
    },
    {
     "name": "stdout",
     "output_type": "stream",
     "text": [
      "Label 0\n"
     ]
    }
   ],
   "source": [
    "# View the first data point in the test set: \n",
    "vis_image(0, \"test\") "
   ]
  },
  {
   "cell_type": "markdown",
   "id": "10cd87f8-a5d0-4e60-a449-acfcd761cf04",
   "metadata": {},
   "source": [
    "## Squared Euclidean distance \n",
    "* To compute nearest neighbors in our data set, we need to compute distances between data points.\n",
    "* A natural distance function is Euclidean distance: for two vectors x, y and their Euclidean distance is defined as "
   ]
  },
  {
   "cell_type": "markdown",
   "id": "a6a1d7ff-1840-4277-a28c-2c71370c13b5",
   "metadata": {},
   "source": [
    "d =√((x2 – x1)2 + (y2 – y1)^2)\n"
   ]
  },
  {
   "cell_type": "code",
   "execution_count": 10,
   "id": "5b0157df-c4b7-47ed-8def-7836febb19f1",
   "metadata": {},
   "outputs": [],
   "source": [
    "#Function that computes squared Euclidean distance between two vectors. \n",
    "def squared_dist(x,y): \n",
    "    return np.sum(np.square(x-y)) "
   ]
  },
  {
   "cell_type": "code",
   "execution_count": 11,
   "id": "75b780c0-ad9d-4bac-aeba-ba64a3e7ef4f",
   "metadata": {},
   "outputs": [
    {
     "data": {
      "image/png": "[encoded data removed]",
      "text/plain": [
       "<Figure size 640x480 with 1 Axes>"
      ]
     },
     "metadata": {},
     "output_type": "display_data"
    },
    {
     "name": "stdout",
     "output_type": "stream",
     "text": [
      "Label 7\n"
     ]
    },
    {
     "data": {
      "image/png": "[encoded data removed]",
      "text/plain": [
       "<Figure size 640x480 with 1 Axes>"
      ]
     },
     "metadata": {},
     "output_type": "display_data"
    },
    {
     "name": "stdout",
     "output_type": "stream",
     "text": [
      "Label 1\n",
      "Distance from 7 to 1:  5357193.0\n"
     ]
    }
   ],
   "source": [
    "#Compute distance between a seven and a one in our training set. \n",
    "vis_image(4, \"train\") \n",
    "vis_image(5, \"train\") \n",
    "print(\"Distance from 7 to 1: \", squared_dist(train_data[4,],train_data[5,])) "
   ]
  },
  {
   "cell_type": "code",
   "execution_count": 12,
   "id": "cbd48f89-0274-449c-ba4a-ce33d48ee563",
   "metadata": {},
   "outputs": [
    {
     "data": {
      "image/png": "[encoded data removed]",
      "text/plain": [
       "<Figure size 640x480 with 1 Axes>"
      ]
     },
     "metadata": {},
     "output_type": "display_data"
    },
    {
     "name": "stdout",
     "output_type": "stream",
     "text": [
      "Label 7\n"
     ]
    },
    {
     "data": {
      "image/png": "[encoded data removed]",
      "text/plain": [
       "<Figure size 640x480 with 1 Axes>"
      ]
     },
     "metadata": {},
     "output_type": "display_data"
    },
    {
     "name": "stdout",
     "output_type": "stream",
     "text": [
      "Label 2\n",
      "Distance from 7 to 2:  12451684.0\n"
     ]
    }
   ],
   "source": [
    "#Compute distance between a seven and a two in our training set. \n",
    "vis_image(4, \"train\") \n",
    "vis_image(1, \"train\") \n",
    "print(\"Distance from 7 to 2: \", squared_dist(train_data[4,],train_data[1,])) "
   ]
  },
  {
   "cell_type": "code",
   "execution_count": 13,
   "id": "f966ad99-9663-4931-b79e-10408e7d2078",
   "metadata": {},
   "outputs": [
    {
     "data": {
      "image/png": "[encoded data removed]",
      "text/plain": [
       "<Figure size 640x480 with 1 Axes>"
      ]
     },
     "metadata": {},
     "output_type": "display_data"
    },
    {
     "name": "stdout",
     "output_type": "stream",
     "text": [
      "Label 7\n"
     ]
    },
    {
     "data": {
      "image/png": "[encoded data removed]",
      "text/plain": [
       "<Figure size 640x480 with 1 Axes>"
      ]
     },
     "metadata": {},
     "output_type": "display_data"
    },
    {
     "name": "stdout",
     "output_type": "stream",
     "text": [
      "Label 7\n",
      "Distance from 7 to 7:  5223403.0\n"
     ]
    }
   ],
   "source": [
    "#Compute distance between two seven's in our training set. \n",
    "vis_image(4, \"train\") \n",
    "vis_image(7, \"train\") \n",
    "print(\"Distance from 7 to 7: \", \n",
    "squared_dist(train_data[4,],train_data[7,]))"
   ]
  },
  {
   "cell_type": "markdown",
   "id": "40c3075d-cefa-4423-b844-8b4731260cee",
   "metadata": {},
   "source": [
    "## Computing nearest neighbors \n",
    "* Now that we have a distance function defined, we can now turn to nearest neighbor classification. \n",
    "* Function that takes a vector x and returns the index of its nearest neighbor in train_data."
   ]
  },
  {
   "cell_type": "code",
   "execution_count": 14,
   "id": "5373c75b-606c-47a6-8f0c-a0af5d2be807",
   "metadata": {},
   "outputs": [],
   "source": [
    "#4. Computing nearest neighbors \n",
    "#Now that we have a distance function defined, \n",
    "# we can now turn to nearest neighbor classification. \n",
    " \n",
    "#Function that takes a vector x and returns the index \n",
    "# of its nearest neighbor in train_data. \n",
    "def find_NN(x): \n",
    "    # Compute distances from x to every row in train_data \n",
    "    distances = [squared_dist(x,train_data[i,]) for i in range(len(train_labels))] \n",
    "    # Get the index of the smallest distance \n",
    "    return np.argmin(distances)"
   ]
  },
  {
   "cell_type": "code",
   "execution_count": 15,
   "id": "95a5892b-8f04-43dd-b382-0ab862b054cb",
   "metadata": {},
   "outputs": [],
   "source": [
    "#Function that takes a vector x and returns the class of its nearest neighbor in train_data. \n",
    "def NN_classifier(x): \n",
    "    # Get the index of the the nearest neighbor \n",
    "    index = find_NN(x) \n",
    "    # Return its class \n",
    "    return train_labels[index] "
   ]
  },
  {
   "cell_type": "code",
   "execution_count": 16,
   "id": "0803d451-e23a-4491-9c78-35238c49ef92",
   "metadata": {},
   "outputs": [
    {
     "name": "stdout",
     "output_type": "stream",
     "text": [
      "A success case:\n",
      "NN classification:  0\n",
      "True label:  0\n",
      "The test image:\n"
     ]
    },
    {
     "data": {
      "image/png": "[encoded data removed]",
      "text/plain": [
       "<Figure size 640x480 with 1 Axes>"
      ]
     },
     "metadata": {},
     "output_type": "display_data"
    },
    {
     "name": "stdout",
     "output_type": "stream",
     "text": [
      "Label 0\n",
      "The corresponding nearest neighbor image:\n"
     ]
    },
    {
     "data": {
      "image/png": "[encoded data removed]",
      "text/plain": [
       "<Figure size 640x480 with 1 Axes>"
      ]
     },
     "metadata": {},
     "output_type": "display_data"
    },
    {
     "name": "stdout",
     "output_type": "stream",
     "text": [
      "Label 0\n"
     ]
    }
   ],
   "source": [
    "#A success case: \n",
    "print(\"A success case:\") \n",
    "print(\"NN classification: \", NN_classifier(test_data[0,])) \n",
    "print(\"True label: \", test_labels[0]) \n",
    "print(\"The test image:\") \n",
    "vis_image(0, \"test\") \n",
    "print(\"The corresponding nearest neighbor image:\") \n",
    "vis_image(find_NN(test_data[0,]), \"train\") "
   ]
  },
  {
   "cell_type": "code",
   "execution_count": 17,
   "id": "86ca7631-7a21-4b3f-bb99-6608300c197c",
   "metadata": {},
   "outputs": [
    {
     "name": "stdout",
     "output_type": "stream",
     "text": [
      "A failure case:\n",
      "NN classification:  2\n",
      "True label:  3\n",
      "The test image:\n"
     ]
    },
    {
     "data": {
      "image/png": "[encoded data removed]",
      "text/plain": [
       "<Figure size 640x480 with 1 Axes>"
      ]
     },
     "metadata": {},
     "output_type": "display_data"
    },
    {
     "name": "stdout",
     "output_type": "stream",
     "text": [
      "Label 3\n",
      "The corresponding nearest neighbor image:\n"
     ]
    },
    {
     "data": {
      "image/png": "[encoded data removed]",
      "text/plain": [
       "<Figure size 640x480 with 1 Axes>"
      ]
     },
     "metadata": {},
     "output_type": "display_data"
    },
    {
     "name": "stdout",
     "output_type": "stream",
     "text": [
      "Label 2\n"
     ]
    }
   ],
   "source": [
    " \n",
    "#A failure case: \n",
    "print(\"A failure case:\") \n",
    "print(\"NN classification: \", NN_classifier(test_data[39,])) \n",
    "print(\"True label: \", test_labels[39]) \n",
    "print(\"The test image:\") \n",
    "vis_image(39, \"test\") \n",
    "print(\"The corresponding nearest neighbor image:\") \n",
    "vis_image(find_NN(test_data[39,]), \"train\") "
   ]
  },
  {
   "cell_type": "markdown",
   "id": "6ed70b9b-0b57-427a-b0f5-1aa1c39b4287",
   "metadata": {},
   "source": [
    "## Processing the full test set \n",
    "* Let us apply our nearest neighbor classifier over the full data set. \n",
    "* To classify each test point, our code takes a full pass over each of the 7500 training examples. Thus we should not expect testing to be very fast. \n",
    "* Let us predict on each test data point (and time it!) "
   ]
  },
  {
   "cell_type": "code",
   "execution_count": 18,
   "id": "af7a8827-54de-46c9-82aa-2cd1d14a0030",
   "metadata": {},
   "outputs": [],
   "source": [
    "#5. Processing the full test set \n",
    "t_before = time.time() \n",
    "test_predictions = [NN_classifier(test_data[i,]) for i in range(len(test_labels))] \n",
    "t_after = time.time() "
   ]
  },
  {
   "cell_type": "code",
   "execution_count": 19,
   "id": "5e1cc540-d453-4422-90eb-a18553c56577",
   "metadata": {},
   "outputs": [
    {
     "name": "stdout",
     "output_type": "stream",
     "text": [
      "Error of nearest neighbor classifier:  0.046\n",
      "Classification time (seconds):  50.77689266204834\n"
     ]
    }
   ],
   "source": [
    "# Compute the error: \n",
    "err_positions = np.not_equal(test_predictions, test_labels) \n",
    "error = float(np.sum(err_positions))/len(test_labels) \n",
    "print(\"Error of nearest neighbor classifier: \", error) \n",
    "print(\"Classification time (seconds): \", t_after - t_before) "
   ]
  },
  {
   "cell_type": "markdown",
   "id": "67169c25-12c3-4853-a6d1-b49a3b3c2044",
   "metadata": {},
   "source": [
    "## Faster nearest neighbor methods \n",
    "* Performing nearest neighbor classification in the way we have presented requires a full pass through the training set in order to classify a single point.\n",
    "* If there are N training points in Rd, this takes O(Nd)  time. \n",
    "* Fortunately, there are faster methods to perform nearest neighbor. \"scikit-learn\" has fast implementations of two useful nearest neighbor data structures: the ball tree and the k-d tree. "
   ]
  },
  {
   "cell_type": "code",
   "execution_count": 20,
   "id": "5ee0b6f0-dc59-464f-ad01-a8585dd5fb9e",
   "metadata": {},
   "outputs": [],
   "source": [
    "#6. Faster nearest neighbor methods \n",
    "from sklearn.neighbors import BallTree \n",
    "# Build nearest neighbor structure on training data \n",
    "t_before = time.time() \n",
    "ball_tree = BallTree(train_data) \n",
    "t_after = time.time() "
   ]
  },
  {
   "cell_type": "code",
   "execution_count": 21,
   "id": "dc7f8d20-e3b5-45cf-ba5d-9e690a636fb2",
   "metadata": {},
   "outputs": [
    {
     "name": "stdout",
     "output_type": "stream",
     "text": [
      "Time to build data structure (seconds):  0.422590970993042\n"
     ]
    }
   ],
   "source": [
    "# Compute training time \n",
    "t_training = t_after - t_before \n",
    "print(\"Time to build data structure (seconds): \", t_training) "
   ]
  },
  {
   "cell_type": "code",
   "execution_count": 22,
   "id": "9b0a9950-c3c2-41df-93dc-b1df095b8fe9",
   "metadata": {},
   "outputs": [],
   "source": [
    "# Get nearest neighbor predictions on testing data \n",
    "t_before = time.time() \n",
    "test_neighbors = np.squeeze(ball_tree.query(test_data, k=1, return_distance=False)) \n",
    "ball_tree_predictions = train_labels[test_neighbors] \n",
    "t_after = time.time() "
   ]
  },
  {
   "cell_type": "code",
   "execution_count": 23,
   "id": "39dee620-1b6c-481a-9859-6c347feb8659",
   "metadata": {},
   "outputs": [
    {
     "name": "stdout",
     "output_type": "stream",
     "text": [
      "Time to classify test set (seconds):  7.126349925994873\n",
      "Ball tree produces same predictions as above?  True\n"
     ]
    }
   ],
   "source": [
    "# Compute testing time \n",
    "t_testing = t_after - t_before \n",
    "print(\"Time to classify test set (seconds): \", t_testing) \n",
    "# Verify that the predictions are the same \n",
    "print(\"Ball tree produces same predictions as above? \", \n",
    "np.array_equal(test_predictions, ball_tree_predictions)) "
   ]
  },
  {
   "cell_type": "code",
   "execution_count": 24,
   "id": "b1688de7-1e55-4730-b1de-085634c9bf8b",
   "metadata": {},
   "outputs": [],
   "source": [
    "from sklearn.neighbors import KDTree \n",
    "# Build nearest neighbor structure on training data \n",
    "t_before = time.time() \n",
    "kd_tree = KDTree(train_data) \n",
    "t_after = time.time() "
   ]
  },
  {
   "cell_type": "code",
   "execution_count": 25,
   "id": "22b17289-5e4e-4df2-bb16-a4afa5382403",
   "metadata": {},
   "outputs": [
    {
     "name": "stdout",
     "output_type": "stream",
     "text": [
      "Time to build data structure (seconds):  0.7021229267120361\n"
     ]
    }
   ],
   "source": [
    "# Compute training time \n",
    "t_training = t_after - t_before \n",
    "print(\"Time to build data structure (seconds): \", t_training)"
   ]
  },
  {
   "cell_type": "code",
   "execution_count": 26,
   "id": "43683ed0-473f-4c8b-95ba-ddb37c8fe97e",
   "metadata": {},
   "outputs": [],
   "source": [
    "# Get nearest neighbor predictions on testing data \n",
    "t_before = time.time() \n",
    "test_neighbors = np.squeeze(kd_tree.query(test_data, k=1, return_distance=False)) \n",
    "kd_tree_predictions = train_labels[test_neighbors] \n",
    "t_after = time.time() "
   ]
  },
  {
   "cell_type": "code",
   "execution_count": 27,
   "id": "f17e7ee5-f238-499a-ac1a-4d82e45f0cfd",
   "metadata": {},
   "outputs": [
    {
     "name": "stdout",
     "output_type": "stream",
     "text": [
      "Time to classify test set (seconds):  9.03245234489441\n"
     ]
    }
   ],
   "source": [
    "# Compute testing time \n",
    "t_testing = t_after - t_before \n",
    "print(\"Time to classify test set (seconds): \", t_testing)"
   ]
  },
  {
   "cell_type": "code",
   "execution_count": 28,
   "id": "0c113a2e-ab8b-4902-8eaa-f25004b5f371",
   "metadata": {},
   "outputs": [
    {
     "name": "stdout",
     "output_type": "stream",
     "text": [
      "KD tree produces same predictions as above?  True\n"
     ]
    }
   ],
   "source": [
    "# Verify that the predictions are the same \n",
    "print(\"KD tree produces same predictions as above? \", \n",
    "np.array_equal(test_predictions, kd_tree_predictions))"
   ]
  },
  {
   "cell_type": "code",
   "execution_count": null,
   "id": "eb2de6eb-86db-4588-9e11-524b02ef5ff1",
   "metadata": {},
   "outputs": [],
   "source": []
  }
 ],
 "metadata": {
  "kernelspec": {
   "display_name": "Python 3 (ipykernel)",
   "language": "python",
   "name": "python3"
  },
  "language_info": {
   "codemirror_mode": {
    "name": "ipython",
    "version": 3
   },
   "file_extension": ".py",
   "mimetype": "text/x-python",
   "name": "python",
   "nbconvert_exporter": "python",
   "pygments_lexer": "ipython3",
   "version": "3.9.18"
  }
 },
 "nbformat": 4,
 "nbformat_minor": 5
}
